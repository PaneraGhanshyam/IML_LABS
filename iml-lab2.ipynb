{
 "cells": [
  {
   "cell_type": "code",
   "execution_count": 1,
   "id": "858d5a03",
   "metadata": {
    "_cell_guid": "b1076dfc-b9ad-4769-8c92-a6c4dae69d19",
    "_uuid": "8f2839f25d086af736a60e9eeb907d3b93b6e0e5",
    "execution": {
     "iopub.execute_input": "2023-09-01T07:17:25.974842Z",
     "iopub.status.busy": "2023-09-01T07:17:25.974161Z",
     "iopub.status.idle": "2023-09-01T07:17:26.958576Z",
     "shell.execute_reply": "2023-09-01T07:17:26.957211Z"
    },
    "papermill": {
     "duration": 0.993044,
     "end_time": "2023-09-01T07:17:26.961355",
     "exception": false,
     "start_time": "2023-09-01T07:17:25.968311",
     "status": "completed"
    },
    "tags": []
   },
   "outputs": [],
   "source": [
    "'''\n",
    "Practical No.2: Write a NumPy program to implement following operation\n",
    "Name:panera ghanshyam\n",
    "Enroll no:216270307072\n",
    "'''\n",
    "import numpy as np # linear algebra\n",
    "import pandas as pd # data processing, CSV file I/O (e.g. pd.read_csv)"
   ]
  },
  {
   "cell_type": "code",
   "execution_count": 2,
   "id": "8d538b4c",
   "metadata": {
    "execution": {
     "iopub.execute_input": "2023-09-01T07:17:26.968568Z",
     "iopub.status.busy": "2023-09-01T07:17:26.968061Z",
     "iopub.status.idle": "2023-09-01T07:17:26.977427Z",
     "shell.execute_reply": "2023-09-01T07:17:26.975813Z"
    },
    "papermill": {
     "duration": 0.015542,
     "end_time": "2023-09-01T07:17:26.979793",
     "exception": false,
     "start_time": "2023-09-01T07:17:26.964251",
     "status": "completed"
    },
    "tags": []
   },
   "outputs": [
    {
     "name": "stdout",
     "output_type": "stream",
     "text": [
      "[10 20 30 40 50]\n"
     ]
    }
   ],
   "source": [
    "'''\n",
    "to convert a list of numeric values into a one-dimensional NumPy array\n",
    "'''\n",
    "List=[10,20,30,40,50]\n",
    "\n",
    "array=np.array(List);\n",
    "print(array)"
   ]
  }
 ],
 "kernelspec": {
  "display_name": "Python 3",
  "language": "python",
  "name": "python3"
 },
 "language_info": {
  "codemirror_mode": {
   "name": "ipython",
   "version": 3
  },
  "file_extension": ".py",
  "mimetype": "text/x-python",
  "name": "python",
  "nbconvert_exporter": "python",
  "pygments_lexer": "ipython3",
  "version": "3.6.4"
 },
 "metadata": {
  "kernelspec": {
   "display_name": "Python 3",
   "language": "python",
   "name": "python3"
  },
  "language_info": {
   "codemirror_mode": {
    "name": "ipython",
    "version": 3
   },
   "file_extension": ".py",
   "mimetype": "text/x-python",
   "name": "python",
   "nbconvert_exporter": "python",
   "pygments_lexer": "ipython3",
   "version": "3.10.12"
  },
  "papermill": {
   "default_parameters": {},
   "duration": 5.433265,
   "end_time": "2023-09-01T07:17:27.402334",
   "environment_variables": {},
   "exception": null,
   "input_path": "__notebook__.ipynb",
   "output_path": "__notebook__.ipynb",
   "parameters": {},
   "start_time": "2023-09-01T07:17:21.969069",
   "version": "2.4.0"
  }
 },
 "nbformat": 4,
 "nbformat_minor": 5
}
