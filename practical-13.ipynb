{
 "cells": [
  {
   "cell_type": "code",
   "execution_count": 1,
   "id": "f8da4b1b",
   "metadata": {
    "execution": {
     "iopub.execute_input": "2023-11-08T06:23:22.299210Z",
     "iopub.status.busy": "2023-11-08T06:23:22.298547Z",
     "iopub.status.idle": "2023-11-08T06:23:25.058542Z",
     "shell.execute_reply": "2023-11-08T06:23:25.056300Z"
    },
    "papermill": {
     "duration": 2.765474,
     "end_time": "2023-11-08T06:23:25.060518",
     "exception": false,
     "start_time": "2023-11-08T06:23:22.295044",
     "status": "completed"
    },
    "tags": []
   },
   "outputs": [
    {
     "name": "stdout",
     "output_type": "stream",
     "text": [
      "Accuracy of K-NN with k=3: 0.81\n"
     ]
    }
   ],
   "source": [
    "# Name: Panera Ghanshyam . \n",
    "# Enrollement No: 21627030707 \n",
    "\n",
    "import numpy as np # linear algebra\n",
    "import pandas as pd # data processing, CSV file I/O (e.g. pd.read_csv)\n",
    "\n",
    "from sklearn.model_selection import train_test_split\n",
    "from sklearn.neighbors import KNeighborsClassifier\n",
    "from sklearn import datasets\n",
    "from sklearn.metrics import accuracy_score\n",
    "\n",
    "data = datasets.load_wine()\n",
    "X = data.data  # Features\n",
    "y = data.target  # Target variable (class labels)\n",
    "X_train, X_test, y_train, y_test = train_test_split(X, y, test_size=0.2, random_state=42)\n",
    "k=3\n",
    "knn = KNeighborsClassifier(n_neighbors=k)\n",
    "knn.fit(X_train, y_train)\n",
    "y_pred = knn.predict(X_test)\n",
    "accuracy = accuracy_score(y_test, y_pred)\n",
    "print(f\"Accuracy of K-NN with k={k}: {accuracy:.2f}\")"
   ]
  }
 ],
 "metadata": {
  "kernelspec": {
   "display_name": "Python 3",
   "language": "python",
   "name": "python3"
  },
  "language_info": {
   "codemirror_mode": {
    "name": "ipython",
    "version": 3
   },
   "file_extension": ".py",
   "mimetype": "text/x-python",
   "name": "python",
   "nbconvert_exporter": "python",
   "pygments_lexer": "ipython3",
   "version": "3.10.12"
  },
  "papermill": {
   "default_parameters": {},
   "duration": 7.77155,
   "end_time": "2023-11-08T06:23:25.682826",
   "environment_variables": {},
   "exception": null,
   "input_path": "__notebook__.ipynb",
   "output_path": "__notebook__.ipynb",
   "parameters": {},
   "start_time": "2023-11-08T06:23:17.911276",
   "version": "2.4.0"
  }
 },
 "nbformat": 4,
 "nbformat_minor": 5
}
