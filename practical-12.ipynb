{
 "cells": [
  {
   "cell_type": "code",
   "execution_count": 1,
   "id": "ee3953e6",
   "metadata": {
    "_cell_guid": "b1076dfc-b9ad-4769-8c92-a6c4dae69d19",
    "_uuid": "8f2839f25d086af736a60e9eeb907d3b93b6e0e5",
    "execution": {
     "iopub.execute_input": "2023-11-08T06:21:23.492763Z",
     "iopub.status.busy": "2023-11-08T06:21:23.492379Z",
     "iopub.status.idle": "2023-11-08T06:21:23.937469Z",
     "shell.execute_reply": "2023-11-08T06:21:23.936167Z"
    },
    "papermill": {
     "duration": 0.453107,
     "end_time": "2023-11-08T06:21:23.940603",
     "exception": false,
     "start_time": "2023-11-08T06:21:23.487496",
     "status": "completed"
    },
    "tags": []
   },
   "outputs": [
    {
     "name": "stdout",
     "output_type": "stream",
     "text": [
      "\n",
      "Keys of Iris dataset:\n",
      "Index(['sepal_length', 'sepal_width', 'petal_length', 'petal_width',\n",
      "       'species'],\n",
      "      dtype='object')\n",
      "\n",
      "Number of rows and columns of Iris dataset:\n",
      "(150, 5)\n"
     ]
    }
   ],
   "source": [
    "# Name: Panera Ghanshyam . \n",
    "# Enrollement No: 21627030707 \n",
    "import numpy as np # linear algebra\n",
    "import pandas as pd # data processing, CSV file I/O (e.g. pd.read_csv)\n",
    "\n",
    "\n",
    "data = pd.read_csv(\"/kaggle/input/iris-dataset/iris.csv\")\n",
    "print(\"\\nKeys of Iris dataset:\")\n",
    "print(data.keys())\n",
    "print(\"\\nNumber of rows and columns of Iris dataset:\")\n",
    "print(data.shape)"
   ]
  }
 ],
 "metadata": {
  "kernelspec": {
   "display_name": "Python 3",
   "language": "python",
   "name": "python3"
  },
  "language_info": {
   "codemirror_mode": {
    "name": "ipython",
    "version": 3
   },
   "file_extension": ".py",
   "mimetype": "text/x-python",
   "name": "python",
   "nbconvert_exporter": "python",
   "pygments_lexer": "ipython3",
   "version": "3.10.12"
  },
  "papermill": {
   "default_parameters": {},
   "duration": 4.68729,
   "end_time": "2023-11-08T06:21:24.464825",
   "environment_variables": {},
   "exception": null,
   "input_path": "__notebook__.ipynb",
   "output_path": "__notebook__.ipynb",
   "parameters": {},
   "start_time": "2023-11-08T06:21:19.777535",
   "version": "2.4.0"
  }
 },
 "nbformat": 4,
 "nbformat_minor": 5
}
