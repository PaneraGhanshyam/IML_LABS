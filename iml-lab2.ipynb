{
 "cells": [
  {
   "cell_type": "code",
   "execution_count": 1,
   "id": "1da54dda",
   "metadata": {
    "_cell_guid": "b1076dfc-b9ad-4769-8c92-a6c4dae69d19",
    "_uuid": "8f2839f25d086af736a60e9eeb907d3b93b6e0e5",
    "execution": {
     "iopub.execute_input": "2023-09-01T07:38:01.324860Z",
     "iopub.status.busy": "2023-09-01T07:38:01.324414Z",
     "iopub.status.idle": "2023-09-01T07:38:01.737865Z",
     "shell.execute_reply": "2023-09-01T07:38:01.736863Z"
    },
    "papermill": {
     "duration": 0.42279,
     "end_time": "2023-09-01T07:38:01.740631",
     "exception": false,
     "start_time": "2023-09-01T07:38:01.317841",
     "status": "completed"
    },
    "tags": []
   },
   "outputs": [],
   "source": [
    "'''\n",
    "Practical No.2: Write a NumPy program to implement following operation\n",
    "Name:panera ghanshyam\n",
    "Enroll no:216270307072\n",
    "'''\n",
    "import numpy as np;# linear algebra\n",
    "import pandas as pd; # data processing, CSV file I/O (e.g. pd.read_csv)"
   ]
  },
  {
   "cell_type": "code",
   "execution_count": 2,
   "id": "c87d6b4c",
   "metadata": {
    "execution": {
     "iopub.execute_input": "2023-09-01T07:38:01.751676Z",
     "iopub.status.busy": "2023-09-01T07:38:01.750580Z",
     "iopub.status.idle": "2023-09-01T07:38:01.758768Z",
     "shell.execute_reply": "2023-09-01T07:38:01.757687Z"
    },
    "papermill": {
     "duration": 0.016092,
     "end_time": "2023-09-01T07:38:01.761291",
     "exception": false,
     "start_time": "2023-09-01T07:38:01.745199",
     "status": "completed"
    },
    "tags": []
   },
   "outputs": [
    {
     "name": "stdout",
     "output_type": "stream",
     "text": [
      "[10 20 30 40 50]\n"
     ]
    }
   ],
   "source": [
    "'''\n",
    "to convert a list of numeric values into a one-dimensional NumPy array\n",
    "'''\n",
    "List=[10,20,30,40,50];\n",
    "\n",
    "a=np.array(List);\n",
    "print(a);"
   ]
  },
  {
   "cell_type": "code",
   "execution_count": 3,
   "id": "74d7fa6a",
   "metadata": {
    "execution": {
     "iopub.execute_input": "2023-09-01T07:38:01.771288Z",
     "iopub.status.busy": "2023-09-01T07:38:01.770868Z",
     "iopub.status.idle": "2023-09-01T07:38:01.777702Z",
     "shell.execute_reply": "2023-09-01T07:38:01.776668Z"
    },
    "papermill": {
     "duration": 0.014773,
     "end_time": "2023-09-01T07:38:01.780307",
     "exception": false,
     "start_time": "2023-09-01T07:38:01.765534",
     "status": "completed"
    },
    "tags": []
   },
   "outputs": [
    {
     "name": "stdout",
     "output_type": "stream",
     "text": [
      "[[ 2  3  4]\n",
      " [ 5  6  7]\n",
      " [ 8  9 10]]\n"
     ]
    }
   ],
   "source": [
    "'''\n",
    "to create a 3x3 matrix with values ranging from 2 to 10\n",
    "'''\n",
    "\n",
    "a=[2,3,4];\n",
    "b=[5,6,7];\n",
    "c=[8,9,10];\n",
    "\n",
    "a=np.array([a,b,c]);\n",
    "print(a);"
   ]
  },
  {
   "cell_type": "code",
   "execution_count": 4,
   "id": "8d2f48e4",
   "metadata": {
    "execution": {
     "iopub.execute_input": "2023-09-01T07:38:01.790715Z",
     "iopub.status.busy": "2023-09-01T07:38:01.790333Z",
     "iopub.status.idle": "2023-09-01T07:38:01.797718Z",
     "shell.execute_reply": "2023-09-01T07:38:01.796505Z"
    },
    "papermill": {
     "duration": 0.015951,
     "end_time": "2023-09-01T07:38:01.800662",
     "exception": false,
     "start_time": "2023-09-01T07:38:01.784711",
     "status": "completed"
    },
    "tags": []
   },
   "outputs": [
    {
     "name": "stdout",
     "output_type": "stream",
     "text": [
      "Before append: [10 20 30 40 50]\n",
      "After append [10 20 30 40 50 60]\n"
     ]
    }
   ],
   "source": [
    "'''\n",
    "to append values at the end of an array\n",
    "'''\n",
    "List=[10,20,30,40,50];\n",
    "\n",
    "a=np.array(List);\n",
    "print(\"Before append:\",a);\n",
    "\n",
    "a=np.append(a,[60]);\n",
    "\n",
    "print(\"After append\",a);"
   ]
  }
 ],
 "kernelspec": {
  "display_name": "Python 3",
  "language": "python",
  "name": "python3"
 },
 "language_info": {
  "codemirror_mode": {
   "name": "ipython",
   "version": 3
  },
  "file_extension": ".py",
  "mimetype": "text/x-python",
  "name": "python",
  "nbconvert_exporter": "python",
  "pygments_lexer": "ipython3",
  "version": "3.6.4"
 },
 "metadata": {
  "kernelspec": {
   "display_name": "Python 3",
   "language": "python",
   "name": "python3"
  },
  "language_info": {
   "codemirror_mode": {
    "name": "ipython",
    "version": 3
   },
   "file_extension": ".py",
   "mimetype": "text/x-python",
   "name": "python",
   "nbconvert_exporter": "python",
   "pygments_lexer": "ipython3",
   "version": "3.10.12"
  },
  "papermill": {
   "default_parameters": {},
   "duration": 4.515645,
   "end_time": "2023-09-01T07:38:02.225741",
   "environment_variables": {},
   "exception": null,
   "input_path": "__notebook__.ipynb",
   "output_path": "__notebook__.ipynb",
   "parameters": {},
   "start_time": "2023-09-01T07:37:57.710096",
   "version": "2.4.0"
  }
 },
 "nbformat": 4,
 "nbformat_minor": 5
}
