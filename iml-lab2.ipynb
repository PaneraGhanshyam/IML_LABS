{
 "cells": [
  {
   "cell_type": "code",
   "execution_count": 1,
   "id": "f8ed2f54",
   "metadata": {
    "_cell_guid": "b1076dfc-b9ad-4769-8c92-a6c4dae69d19",
    "_uuid": "8f2839f25d086af736a60e9eeb907d3b93b6e0e5",
    "execution": {
     "iopub.execute_input": "2023-09-01T07:52:39.458460Z",
     "iopub.status.busy": "2023-09-01T07:52:39.458061Z",
     "iopub.status.idle": "2023-09-01T07:52:39.831342Z",
     "shell.execute_reply": "2023-09-01T07:52:39.830261Z"
    },
    "papermill": {
     "duration": 0.383277,
     "end_time": "2023-09-01T07:52:39.833869",
     "exception": false,
     "start_time": "2023-09-01T07:52:39.450592",
     "status": "completed"
    },
    "tags": []
   },
   "outputs": [],
   "source": [
    "'''\n",
    "Practical No.2: Write a NumPy program to implement following operation\n",
    "Name:panera ghanshyam\n",
    "Enroll no:216270307072\n",
    "'''\n",
    "import numpy as np;# linear algebra\n",
    "import pandas as pd; # data processing, CSV file I/O (e.g. pd.read_csv)"
   ]
  },
  {
   "cell_type": "code",
   "execution_count": 2,
   "id": "91dc9ed2",
   "metadata": {
    "execution": {
     "iopub.execute_input": "2023-09-01T07:52:39.846447Z",
     "iopub.status.busy": "2023-09-01T07:52:39.845949Z",
     "iopub.status.idle": "2023-09-01T07:52:39.853787Z",
     "shell.execute_reply": "2023-09-01T07:52:39.852475Z"
    },
    "papermill": {
     "duration": 0.014981,
     "end_time": "2023-09-01T07:52:39.855806",
     "exception": false,
     "start_time": "2023-09-01T07:52:39.840825",
     "status": "completed"
    },
    "tags": []
   },
   "outputs": [
    {
     "name": "stdout",
     "output_type": "stream",
     "text": [
      "[10 20 30 40 50]\n"
     ]
    }
   ],
   "source": [
    "'''\n",
    "to convert a list of numeric values into a one-dimensional NumPy array\n",
    "Name:panera ghanshyam\n",
    "Enroll no:216270307072\n",
    "'''\n",
    "List=[10,20,30,40,50];\n",
    "\n",
    "a=np.array(List);\n",
    "print(a);"
   ]
  },
  {
   "cell_type": "code",
   "execution_count": 3,
   "id": "d86337cd",
   "metadata": {
    "execution": {
     "iopub.execute_input": "2023-09-01T07:52:39.864403Z",
     "iopub.status.busy": "2023-09-01T07:52:39.863999Z",
     "iopub.status.idle": "2023-09-01T07:52:39.871135Z",
     "shell.execute_reply": "2023-09-01T07:52:39.870210Z"
    },
    "papermill": {
     "duration": 0.013722,
     "end_time": "2023-09-01T07:52:39.872943",
     "exception": false,
     "start_time": "2023-09-01T07:52:39.859221",
     "status": "completed"
    },
    "tags": []
   },
   "outputs": [
    {
     "name": "stdout",
     "output_type": "stream",
     "text": [
      "[[ 2  3  4]\n",
      " [ 5  6  7]\n",
      " [ 8  9 10]]\n",
      "(3, 3)\n"
     ]
    }
   ],
   "source": [
    "'''\n",
    "to create a 3x3 matrix with values ranging from 2 to 10\n",
    "Name:panera ghanshyam\n",
    "Enroll no:216270307072\n",
    "'''\n",
    "\n",
    "a=[2,3,4];\n",
    "b=[5,6,7];\n",
    "c=[8,9,10];\n",
    "\n",
    "a=np.array([a,b,c]);\n",
    "print(a);\n",
    "print(a.shape)"
   ]
  },
  {
   "cell_type": "code",
   "execution_count": 4,
   "id": "58b7479b",
   "metadata": {
    "execution": {
     "iopub.execute_input": "2023-09-01T07:52:39.881432Z",
     "iopub.status.busy": "2023-09-01T07:52:39.880586Z",
     "iopub.status.idle": "2023-09-01T07:52:39.888332Z",
     "shell.execute_reply": "2023-09-01T07:52:39.887085Z"
    },
    "papermill": {
     "duration": 0.01411,
     "end_time": "2023-09-01T07:52:39.890367",
     "exception": false,
     "start_time": "2023-09-01T07:52:39.876257",
     "status": "completed"
    },
    "tags": []
   },
   "outputs": [
    {
     "name": "stdout",
     "output_type": "stream",
     "text": [
      "Before append: [10 20 30 40 50]\n",
      "After append [10 20 30 40 50 60]\n"
     ]
    }
   ],
   "source": [
    "'''\n",
    "to append values at the end of an array\n",
    "Name:panera ghanshyam\n",
    "Enroll no:216270307072\n",
    "'''\n",
    "List=[10,20,30,40,50];\n",
    "\n",
    "a=np.array(List);\n",
    "print(\"Before append:\",a);\n",
    "\n",
    "a=np.append(a,[60]);\n",
    "\n",
    "print(\"After append\",a);\n"
   ]
  },
  {
   "cell_type": "code",
   "execution_count": 5,
   "id": "f548cca8",
   "metadata": {
    "execution": {
     "iopub.execute_input": "2023-09-01T07:52:39.898801Z",
     "iopub.status.busy": "2023-09-01T07:52:39.898410Z",
     "iopub.status.idle": "2023-09-01T07:52:39.907236Z",
     "shell.execute_reply": "2023-09-01T07:52:39.906037Z"
    },
    "papermill": {
     "duration": 0.015694,
     "end_time": "2023-09-01T07:52:39.909397",
     "exception": false,
     "start_time": "2023-09-01T07:52:39.893703",
     "status": "completed"
    },
    "tags": []
   },
   "outputs": [
    {
     "data": {
      "text/plain": [
       "'\\nto create another shape from an array without changing its data (3*2 to 2*3)\\nName:panera ghanshyam\\nEnroll no:216270307072\\n'"
      ]
     },
     "execution_count": 5,
     "metadata": {},
     "output_type": "execute_result"
    }
   ],
   "source": [
    "'''\n",
    "to create another shape from an array without changing its data (3*2 to 2*3)\n",
    "Name:panera ghanshyam\n",
    "Enroll no:216270307072\n",
    "'''\n",
    "\n"
   ]
  }
 ],
 "kernelspec": {
  "display_name": "Python 3",
  "language": "python",
  "name": "python3"
 },
 "language_info": {
  "codemirror_mode": {
   "name": "ipython",
   "version": 3
  },
  "file_extension": ".py",
  "mimetype": "text/x-python",
  "name": "python",
  "nbconvert_exporter": "python",
  "pygments_lexer": "ipython3",
  "version": "3.6.4"
 },
 "metadata": {
  "kernelspec": {
   "display_name": "Python 3",
   "language": "python",
   "name": "python3"
  },
  "language_info": {
   "codemirror_mode": {
    "name": "ipython",
    "version": 3
   },
   "file_extension": ".py",
   "mimetype": "text/x-python",
   "name": "python",
   "nbconvert_exporter": "python",
   "pygments_lexer": "ipython3",
   "version": "3.10.12"
  },
  "papermill": {
   "default_parameters": {},
   "duration": 3.986797,
   "end_time": "2023-09-01T07:52:40.332644",
   "environment_variables": {},
   "exception": null,
   "input_path": "__notebook__.ipynb",
   "output_path": "__notebook__.ipynb",
   "parameters": {},
   "start_time": "2023-09-01T07:52:36.345847",
   "version": "2.4.0"
  }
 },
 "nbformat": 4,
 "nbformat_minor": 5
}
