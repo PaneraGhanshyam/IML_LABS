{
 "cells": [
  {
   "cell_type": "code",
   "execution_count": 1,
   "id": "d8307fee",
   "metadata": {
    "_cell_guid": "b1076dfc-b9ad-4769-8c92-a6c4dae69d19",
    "_uuid": "8f2839f25d086af736a60e9eeb907d3b93b6e0e5",
    "execution": {
     "iopub.execute_input": "2023-10-06T07:16:57.711626Z",
     "iopub.status.busy": "2023-10-06T07:16:57.711211Z",
     "iopub.status.idle": "2023-10-06T07:16:59.103152Z",
     "shell.execute_reply": "2023-10-06T07:16:59.101984Z"
    },
    "papermill": {
     "duration": 1.398521,
     "end_time": "2023-10-06T07:16:59.105944",
     "exception": false,
     "start_time": "2023-10-06T07:16:57.707423",
     "status": "completed"
    },
    "tags": []
   },
   "outputs": [],
   "source": [
    "'''\n",
    "Write a Pandas program to create a plot of Open, High, Low, Close, Adjusted Closing\n",
    "prices and Volume of given company between two specific dates.\n",
    "'''\n",
    "import numpy as np # linear algebra\n",
    "import pandas as pd # data processing, CSV file I/O (e.g. pd.read_csv)\n",
    "import matplotlib.pyplot as plt\n",
    "\n",
    "\n",
    "df = pd.read_csv(\"../input/nifty50-stock-market-data/NIFTY50_all.csv\")\n",
    "start_date = pd.to_datetime('2007-11-27')\n",
    "end_date = pd.to_datetime('2008-05-29')  "
   ]
  }
 ],
 "metadata": {
  "kernelspec": {
   "display_name": "Python 3",
   "language": "python",
   "name": "python3"
  },
  "language_info": {
   "codemirror_mode": {
    "name": "ipython",
    "version": 3
   },
   "file_extension": ".py",
   "mimetype": "text/x-python",
   "name": "python",
   "nbconvert_exporter": "python",
   "pygments_lexer": "ipython3",
   "version": "3.10.12"
  },
  "papermill": {
   "default_parameters": {},
   "duration": 5.498318,
   "end_time": "2023-10-06T07:16:59.729484",
   "environment_variables": {},
   "exception": null,
   "input_path": "__notebook__.ipynb",
   "output_path": "__notebook__.ipynb",
   "parameters": {},
   "start_time": "2023-10-06T07:16:54.231166",
   "version": "2.4.0"
  }
 },
 "nbformat": 4,
 "nbformat_minor": 5
}
