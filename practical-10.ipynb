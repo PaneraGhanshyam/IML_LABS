{
 "cells": [
  {
   "cell_type": "code",
   "execution_count": 1,
   "id": "c90cc2ec",
   "metadata": {
    "_cell_guid": "b1076dfc-b9ad-4769-8c92-a6c4dae69d19",
    "_uuid": "8f2839f25d086af736a60e9eeb907d3b93b6e0e5",
    "execution": {
     "iopub.execute_input": "2023-10-13T07:44:12.329232Z",
     "iopub.status.busy": "2023-10-13T07:44:12.328663Z",
     "iopub.status.idle": "2023-10-13T07:44:13.350345Z",
     "shell.execute_reply": "2023-10-13T07:44:13.348608Z"
    },
    "papermill": {
     "duration": 1.028829,
     "end_time": "2023-10-13T07:44:13.353029",
     "exception": false,
     "start_time": "2023-10-13T07:44:12.324200",
     "status": "completed"
    },
    "tags": []
   },
   "outputs": [
    {
     "name": "stdout",
     "output_type": "stream",
     "text": [
      "Original DataFrame:\n",
      "     A       B\n",
      "0  1.0   apple\n",
      "1  2.0  banana\n",
      "2  NaN  cherry\n",
      "3  4.0  banana\n",
      "4  5.0   apple\n",
      "5  5.0   apple\n",
      "\n",
      "DataFrame after dropping missing values:\n",
      "     A       B\n",
      "0  1.0   apple\n",
      "1  2.0  banana\n",
      "3  4.0  banana\n",
      "4  5.0   apple\n",
      "5  5.0   apple\n",
      "\n",
      "DataFrame after removing duplicates:\n",
      "     A       B\n",
      "0  1.0   apple\n",
      "1  2.0  banana\n",
      "3  4.0  banana\n",
      "4  5.0   apple\n"
     ]
    }
   ],
   "source": [
    "'''\n",
    "Write a Pandas program to implement following operation\n",
    "'''\n",
    "import numpy as np # linear algebra\n",
    "import pandas as pd # data processing, CSV file I/O (e.g. pd.read_csv)\n",
    "\n",
    "\n",
    "'''\n",
    "to find and drop the missing values from the given dataset\n",
    "'''\n",
    "\n",
    "data = {'A': [1, 2, None, 4, 5 ,5],\n",
    "        'B': ['apple', 'banana', 'cherry', 'banana', 'apple' , 'apple']}\n",
    "df = pd.DataFrame(data)\n",
    "\n",
    "print(\"Original DataFrame:\")\n",
    "print(df)\n",
    "\n",
    "df.dropna(inplace=True)\n",
    "\n",
    "print(\"\\nDataFrame after dropping missing values:\")\n",
    "print(df)\n",
    "\n",
    "'''\n",
    "to remove the duplicates from the given dataset\n",
    "'''\n",
    "\n",
    "df.drop_duplicates(inplace=True)\n",
    "\n",
    "print(\"\\nDataFrame after removing duplicates:\")\n",
    "print(df)"
   ]
  },
  {
   "cell_type": "code",
   "execution_count": null,
   "id": "d72657fc",
   "metadata": {
    "papermill": {
     "duration": 0.004018,
     "end_time": "2023-10-13T07:44:13.358986",
     "exception": false,
     "start_time": "2023-10-13T07:44:13.354968",
     "status": "completed"
    },
    "tags": []
   },
   "outputs": [],
   "source": []
  }
 ],
 "metadata": {
  "kernelspec": {
   "display_name": "Python 3",
   "language": "python",
   "name": "python3"
  },
  "language_info": {
   "codemirror_mode": {
    "name": "ipython",
    "version": 3
   },
   "file_extension": ".py",
   "mimetype": "text/x-python",
   "name": "python",
   "nbconvert_exporter": "python",
   "pygments_lexer": "ipython3",
   "version": "3.10.12"
  },
  "papermill": {
   "default_parameters": {},
   "duration": 6.572159,
   "end_time": "2023-10-13T07:44:13.984728",
   "environment_variables": {},
   "exception": null,
   "input_path": "__notebook__.ipynb",
   "output_path": "__notebook__.ipynb",
   "parameters": {},
   "start_time": "2023-10-13T07:44:07.412569",
   "version": "2.4.0"
  }
 },
 "nbformat": 4,
 "nbformat_minor": 5
}
