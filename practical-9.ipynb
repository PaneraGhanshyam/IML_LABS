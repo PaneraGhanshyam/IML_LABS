{
 "cells": [
  {
   "cell_type": "code",
   "execution_count": 1,
   "id": "c5fe7bd5",
   "metadata": {
    "_cell_guid": "b1076dfc-b9ad-4769-8c92-a6c4dae69d19",
    "_uuid": "8f2839f25d086af736a60e9eeb907d3b93b6e0e5",
    "execution": {
     "iopub.execute_input": "2023-10-06T07:14:55.464889Z",
     "iopub.status.busy": "2023-10-06T07:14:55.464098Z",
     "iopub.status.idle": "2023-10-06T07:14:55.877156Z",
     "shell.execute_reply": "2023-10-06T07:14:55.875937Z"
    },
    "papermill": {
     "duration": 0.419533,
     "end_time": "2023-10-06T07:14:55.879869",
     "exception": false,
     "start_time": "2023-10-06T07:14:55.460336",
     "status": "completed"
    },
    "tags": []
   },
   "outputs": [],
   "source": [
    "'''\n",
    "Write a Pandas program to create a plot of Open, High, Low, Close, Adjusted Closing\n",
    "prices and Volume of given company between two specific dates.\n",
    "'''\n",
    "import numpy as np # linear algebra\n",
    "import pandas as pd # data processing, CSV file I/O (e.g. pd.read_csv)\n",
    "import matplotlib.pyplot as plt\n"
   ]
  },
  {
   "cell_type": "code",
   "execution_count": null,
   "id": "11ad8c52",
   "metadata": {
    "papermill": {
     "duration": 0.001111,
     "end_time": "2023-10-06T07:14:55.882747",
     "exception": false,
     "start_time": "2023-10-06T07:14:55.881636",
     "status": "completed"
    },
    "tags": []
   },
   "outputs": [],
   "source": []
  }
 ],
 "metadata": {
  "kernelspec": {
   "display_name": "Python 3",
   "language": "python",
   "name": "python3"
  },
  "language_info": {
   "codemirror_mode": {
    "name": "ipython",
    "version": 3
   },
   "file_extension": ".py",
   "mimetype": "text/x-python",
   "name": "python",
   "nbconvert_exporter": "python",
   "pygments_lexer": "ipython3",
   "version": "3.10.12"
  },
  "papermill": {
   "default_parameters": {},
   "duration": 4.678689,
   "end_time": "2023-10-06T07:14:56.507034",
   "environment_variables": {},
   "exception": null,
   "input_path": "__notebook__.ipynb",
   "output_path": "__notebook__.ipynb",
   "parameters": {},
   "start_time": "2023-10-06T07:14:51.828345",
   "version": "2.4.0"
  }
 },
 "nbformat": 4,
 "nbformat_minor": 5
}
