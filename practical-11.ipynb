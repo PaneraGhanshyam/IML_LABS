{
 "cells": [
  {
   "cell_type": "code",
   "execution_count": 1,
   "id": "3c9c1652",
   "metadata": {
    "_cell_guid": "b1076dfc-b9ad-4769-8c92-a6c4dae69d19",
    "_uuid": "8f2839f25d086af736a60e9eeb907d3b93b6e0e5",
    "execution": {
     "iopub.execute_input": "2023-10-17T09:09:53.237410Z",
     "iopub.status.busy": "2023-10-17T09:09:53.234849Z",
     "iopub.status.idle": "2023-10-17T09:09:53.644909Z",
     "shell.execute_reply": "2023-10-17T09:09:53.643623Z"
    },
    "papermill": {
     "duration": 0.416404,
     "end_time": "2023-10-17T09:09:53.647348",
     "exception": false,
     "start_time": "2023-10-17T09:09:53.230944",
     "status": "completed"
    },
    "tags": []
   },
   "outputs": [
    {
     "name": "stdout",
     "output_type": "stream",
     "text": [
      "[False False False  True]\n",
      "[False False False False]\n"
     ]
    }
   ],
   "source": [
    "'''\n",
    "Write a Pandas program to filter all columns where all\n",
    "entries present, check which rows and columns has a\n",
    "NaN and finally drop rows with any NaNs from the\n",
    "given dataset.\n",
    "\n",
    "Name:Panera Ghanshyam.\n",
    "Enrollment No:216270307072.\n",
    "'''\n",
    "\n",
    "import numpy as np # linear algebra\n",
    "import pandas as pd # data processing, CSV file I/O (e.g. pd.read_csv)\n",
    "\n",
    "df=pd.read_csv(r\"../input/deforestation-dataset/goal15.forest_shares.csv\")\n",
    "null_col = df.isna().values.any(axis=0)\n",
    "print(null_col)\n",
    "df=df.dropna()\n",
    "null_col = df.isna().values.any(axis=0)\n",
    "print(null_col)"
   ]
  }
 ],
 "metadata": {
  "kernelspec": {
   "display_name": "Python 3",
   "language": "python",
   "name": "python3"
  },
  "language_info": {
   "codemirror_mode": {
    "name": "ipython",
    "version": 3
   },
   "file_extension": ".py",
   "mimetype": "text/x-python",
   "name": "python",
   "nbconvert_exporter": "python",
   "pygments_lexer": "ipython3",
   "version": "3.10.12"
  },
  "papermill": {
   "default_parameters": {},
   "duration": 4.347375,
   "end_time": "2023-10-17T09:09:54.171698",
   "environment_variables": {},
   "exception": null,
   "input_path": "__notebook__.ipynb",
   "output_path": "__notebook__.ipynb",
   "parameters": {},
   "start_time": "2023-10-17T09:09:49.824323",
   "version": "2.4.0"
  }
 },
 "nbformat": 4,
 "nbformat_minor": 5
}
