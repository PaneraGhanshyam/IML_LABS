{
 "cells": [
  {
   "cell_type": "code",
   "execution_count": 1,
   "id": "11a39359",
   "metadata": {
    "_cell_guid": "b1076dfc-b9ad-4769-8c92-a6c4dae69d19",
    "_uuid": "8f2839f25d086af736a60e9eeb907d3b93b6e0e5",
    "execution": {
     "iopub.execute_input": "2023-09-01T07:55:00.805644Z",
     "iopub.status.busy": "2023-09-01T07:55:00.804563Z",
     "iopub.status.idle": "2023-09-01T07:55:01.260138Z",
     "shell.execute_reply": "2023-09-01T07:55:01.259016Z"
    },
    "papermill": {
     "duration": 0.466581,
     "end_time": "2023-09-01T07:55:01.263247",
     "exception": false,
     "start_time": "2023-09-01T07:55:00.796666",
     "status": "completed"
    },
    "tags": []
   },
   "outputs": [],
   "source": [
    "'''\n",
    "Practical No.2: Write a NumPy program to implement following operation\n",
    "Name:panera ghanshyam\n",
    "Enroll no:216270307072\n",
    "'''\n",
    "import numpy as np;# linear algebra\n",
    "import pandas as pd; # data processing, CSV file I/O (e.g. pd.read_csv)"
   ]
  },
  {
   "cell_type": "code",
   "execution_count": 2,
   "id": "97f312d1",
   "metadata": {
    "execution": {
     "iopub.execute_input": "2023-09-01T07:55:01.275507Z",
     "iopub.status.busy": "2023-09-01T07:55:01.274868Z",
     "iopub.status.idle": "2023-09-01T07:55:01.284363Z",
     "shell.execute_reply": "2023-09-01T07:55:01.283383Z"
    },
    "papermill": {
     "duration": 0.018733,
     "end_time": "2023-09-01T07:55:01.287167",
     "exception": false,
     "start_time": "2023-09-01T07:55:01.268434",
     "status": "completed"
    },
    "tags": []
   },
   "outputs": [
    {
     "name": "stdout",
     "output_type": "stream",
     "text": [
      "[10 20 30 40 50]\n"
     ]
    }
   ],
   "source": [
    "'''\n",
    "Practical No.2: Write a NumPy program to implement following operation\n",
    "to convert a list of numeric values into a one-dimensional NumPy array\n",
    "Name:panera ghanshyam\n",
    "Enroll no:216270307072\n",
    "'''\n",
    "List=[10,20,30,40,50];\n",
    "\n",
    "a=np.array(List);\n",
    "print(a);"
   ]
  },
  {
   "cell_type": "code",
   "execution_count": 3,
   "id": "a2f1dc59",
   "metadata": {
    "execution": {
     "iopub.execute_input": "2023-09-01T07:55:01.299893Z",
     "iopub.status.busy": "2023-09-01T07:55:01.299219Z",
     "iopub.status.idle": "2023-09-01T07:55:01.307139Z",
     "shell.execute_reply": "2023-09-01T07:55:01.305765Z"
    },
    "papermill": {
     "duration": 0.017768,
     "end_time": "2023-09-01T07:55:01.310163",
     "exception": false,
     "start_time": "2023-09-01T07:55:01.292395",
     "status": "completed"
    },
    "tags": []
   },
   "outputs": [
    {
     "name": "stdout",
     "output_type": "stream",
     "text": [
      "[[ 2  3  4]\n",
      " [ 5  6  7]\n",
      " [ 8  9 10]]\n",
      "(3, 3)\n"
     ]
    }
   ],
   "source": [
    "'''\n",
    "Practical No.2: Write a NumPy program to implement following operation\n",
    "to create a 3x3 matrix with values ranging from 2 to 10\n",
    "Name:panera ghanshyam\n",
    "Enroll no:216270307072\n",
    "'''\n",
    "\n",
    "a=[2,3,4];\n",
    "b=[5,6,7];\n",
    "c=[8,9,10];\n",
    "\n",
    "a=np.array([a,b,c]);\n",
    "print(a);\n",
    "print(a.shape)"
   ]
  },
  {
   "cell_type": "code",
   "execution_count": 4,
   "id": "2710686c",
   "metadata": {
    "execution": {
     "iopub.execute_input": "2023-09-01T07:55:01.324670Z",
     "iopub.status.busy": "2023-09-01T07:55:01.323349Z",
     "iopub.status.idle": "2023-09-01T07:55:01.332113Z",
     "shell.execute_reply": "2023-09-01T07:55:01.330634Z"
    },
    "papermill": {
     "duration": 0.019485,
     "end_time": "2023-09-01T07:55:01.335229",
     "exception": false,
     "start_time": "2023-09-01T07:55:01.315744",
     "status": "completed"
    },
    "tags": []
   },
   "outputs": [
    {
     "name": "stdout",
     "output_type": "stream",
     "text": [
      "Before append: [10 20 30 40 50]\n",
      "After append [10 20 30 40 50 60]\n"
     ]
    }
   ],
   "source": [
    "'''\n",
    "Practical No.2: Write a NumPy program to implement following operation\n",
    "to append values at the end of an array\n",
    "Name:panera ghanshyam\n",
    "Enroll no:216270307072\n",
    "'''\n",
    "List=[10,20,30,40,50];\n",
    "\n",
    "a=np.array(List);\n",
    "print(\"Before append:\",a);\n",
    "\n",
    "a=np.append(a,[60]);\n",
    "\n",
    "print(\"After append\",a);\n"
   ]
  },
  {
   "cell_type": "code",
   "execution_count": 5,
   "id": "80bea10c",
   "metadata": {
    "execution": {
     "iopub.execute_input": "2023-09-01T07:55:01.348075Z",
     "iopub.status.busy": "2023-09-01T07:55:01.347311Z",
     "iopub.status.idle": "2023-09-01T07:55:01.354996Z",
     "shell.execute_reply": "2023-09-01T07:55:01.354068Z"
    },
    "papermill": {
     "duration": 0.017007,
     "end_time": "2023-09-01T07:55:01.357441",
     "exception": false,
     "start_time": "2023-09-01T07:55:01.340434",
     "status": "completed"
    },
    "tags": []
   },
   "outputs": [
    {
     "data": {
      "text/plain": [
       "'\\nPractical No.2: Write a NumPy program to implement following operation\\nto create another shape from an array without changing its data (3*2 to 2*3)\\nName:panera ghanshyam\\nEnroll no:216270307072\\n'"
      ]
     },
     "execution_count": 5,
     "metadata": {},
     "output_type": "execute_result"
    }
   ],
   "source": [
    "'''\n",
    "Practical No.2: Write a NumPy program to implement following operation\n",
    "to create another shape from an array without changing its data (3*2 to 2*3)\n",
    "Name:panera ghanshyam\n",
    "Enroll no:216270307072\n",
    "'''\n",
    "\n"
   ]
  }
 ],
 "kernelspec": {
  "display_name": "Python 3",
  "language": "python",
  "name": "python3"
 },
 "language_info": {
  "codemirror_mode": {
   "name": "ipython",
   "version": 3
  },
  "file_extension": ".py",
  "mimetype": "text/x-python",
  "name": "python",
  "nbconvert_exporter": "python",
  "pygments_lexer": "ipython3",
  "version": "3.6.4"
 },
 "metadata": {
  "kernelspec": {
   "display_name": "Python 3",
   "language": "python",
   "name": "python3"
  },
  "language_info": {
   "codemirror_mode": {
    "name": "ipython",
    "version": 3
   },
   "file_extension": ".py",
   "mimetype": "text/x-python",
   "name": "python",
   "nbconvert_exporter": "python",
   "pygments_lexer": "ipython3",
   "version": "3.10.12"
  },
  "papermill": {
   "default_parameters": {},
   "duration": 5.322361,
   "end_time": "2023-09-01T07:55:01.987868",
   "environment_variables": {},
   "exception": null,
   "input_path": "__notebook__.ipynb",
   "output_path": "__notebook__.ipynb",
   "parameters": {},
   "start_time": "2023-09-01T07:54:56.665507",
   "version": "2.4.0"
  }
 },
 "nbformat": 4,
 "nbformat_minor": 5
}
